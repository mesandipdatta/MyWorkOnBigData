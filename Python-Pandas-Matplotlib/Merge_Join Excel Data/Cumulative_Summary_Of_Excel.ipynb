{
 "cells": [
  {
   "cell_type": "raw",
   "metadata": {},
   "source": [
    "# Group Excel CSV data\n",
    "# Author - Sandip Datta\n",
    "This project does below - \n",
    "> Input is 6 csv files\n",
    "> Each input file has below format of data\n",
    "\n",
    "DirectoryName\tFileName\t                Length\t    LastWriteTime\n",
    "R:\\Bundle2\\B2S1\tARP.ASI.CICS.AR.CUSTMST.C\t276391598\t16-11-15 14:55\n",
    "R:\\Bundle2\\B2S1\tARP.DAY.M5323710.CE5\t    42276168\t16-11-15 14:55\n",
    "R:\\Bundle2\\B2S1\tBCP.DAY.M1320200.CE5\t    25566763\t16-11-15 14:55\n",
    "\n",
    "> Club(GroupBy) directories in each csv. And get file count( FileName count). Like below\n",
    "\n",
    "                                22-Jan-2016\n",
    "DirectoryName\t\n",
    "R:\\Bundle2\t                    7\n",
    "R:\\Bundle2\\B2S1            \t    148\n",
    "R:\\Bundle2\\B2S1\\SQL Databases\t3\n",
    "R:\\Bundle2\\BH01\t                2\n",
    "R:\\Bundle2\\BH01\\INPUT\t        1\n",
    "\n",
    "> Create above Statistics for each of the 6 CSV files.\n",
    "\n",
    "> And finally club those stats in the below form\n",
    "\n",
    "                             22-Jan-2016\t28-Jan-2016\t01-Feb-2016\t17-Feb-2016\t19-Feb-2016\t25-Feb-2016\n",
    "    R:\\Bundle2\t             7\t            7\t        7\t        8\t        7\t        7\n",
    "    R:\\Bundle2\\B2S1\t         148\t        149\t        151\t        167\t        167\t        167\n",
    "    R:\\Bundle2\\B2S1\\Input\t NaN\t        NaN\t        NaN\t        NaN\t        NaN\t        83\n"
   ]
  },
  {
   "cell_type": "code",
   "execution_count": 1,
   "metadata": {
    "collapsed": true
   },
   "outputs": [],
   "source": [
    "import pandas as pd\n",
    "import numpy as np\n",
    "import matplotlib.pylab as plt"
   ]
  },
  {
   "cell_type": "code",
   "execution_count": 2,
   "metadata": {
    "collapsed": false,
    "scrolled": false
   },
   "outputs": [
    {
     "name": "stdout",
     "output_type": "stream",
     "text": [
      "Populating the interactive namespace from numpy and matplotlib\n"
     ]
    },
    {
     "name": "stderr",
     "output_type": "stream",
     "text": [
      "WARNING: pylab import has clobbered these variables: ['plt']\n",
      "`%matplotlib` prevents importing * from pylab and numpy\n"
     ]
    }
   ],
   "source": [
    "pd.set_option('display.max_rows',5)\n",
    "%pylab inline"
   ]
  },
  {
   "cell_type": "code",
   "execution_count": 3,
   "metadata": {
    "collapsed": false
   },
   "outputs": [
    {
     "data": {
      "text/html": [
       "<div>\n",
       "<table border=\"1\" class=\"dataframe\">\n",
       "  <thead>\n",
       "    <tr style=\"text-align: right;\">\n",
       "      <th></th>\n",
       "      <th>0</th>\n",
       "    </tr>\n",
       "    <tr>\n",
       "      <th>DirectoryName</th>\n",
       "      <th></th>\n",
       "    </tr>\n",
       "  </thead>\n",
       "  <tbody>\n",
       "    <tr>\n",
       "      <th>R:\\Bundle2</th>\n",
       "      <td>7</td>\n",
       "    </tr>\n",
       "    <tr>\n",
       "      <th>R:\\Bundle2\\B2S1</th>\n",
       "      <td>148</td>\n",
       "    </tr>\n",
       "    <tr>\n",
       "      <th>R:\\Bundle2\\B2S1\\SQL Databases</th>\n",
       "      <td>3</td>\n",
       "    </tr>\n",
       "    <tr>\n",
       "      <th>R:\\Bundle2\\BH01</th>\n",
       "      <td>2</td>\n",
       "    </tr>\n",
       "    <tr>\n",
       "      <th>R:\\Bundle2\\BH01\\INPUT</th>\n",
       "      <td>1</td>\n",
       "    </tr>\n",
       "  </tbody>\n",
       "</table>\n",
       "</div>"
      ],
      "text/plain": [
       "                                 0\n",
       "DirectoryName                     \n",
       "R:\\Bundle2                       7\n",
       "R:\\Bundle2\\B2S1                148\n",
       "R:\\Bundle2\\B2S1\\SQL Databases    3\n",
       "R:\\Bundle2\\BH01                  2\n",
       "R:\\Bundle2\\BH01\\INPUT            1"
      ]
     },
     "execution_count": 3,
     "metadata": {},
     "output_type": "execute_result"
    }
   ],
   "source": [
    "# read the bundle summary data - 22_jan\n",
    "bd_22Jan = pd.read_csv('Bundle2info_22Jan.csv')\n",
    "bd_22Jan.head()\n",
    "bd_22Jan_a = bd_22Jan.groupby('DirectoryName').size()\n",
    "\n",
    "# Result from above is a Series\n",
    "# Convert Series to Data Frame\n",
    "bd_22Jan_Tot = pd.DataFrame(bd_22Jan_a)\n",
    "bd_22Jan_Tot.head()"
   ]
  },
  {
   "cell_type": "code",
   "execution_count": 4,
   "metadata": {
    "collapsed": false
   },
   "outputs": [
    {
     "data": {
      "text/html": [
       "<div>\n",
       "<table border=\"1\" class=\"dataframe\">\n",
       "  <thead>\n",
       "    <tr style=\"text-align: right;\">\n",
       "      <th></th>\n",
       "      <th>22-Jan-2016</th>\n",
       "    </tr>\n",
       "    <tr>\n",
       "      <th>DirectoryName</th>\n",
       "      <th></th>\n",
       "    </tr>\n",
       "  </thead>\n",
       "  <tbody>\n",
       "    <tr>\n",
       "      <th>R:\\Bundle2</th>\n",
       "      <td>7</td>\n",
       "    </tr>\n",
       "    <tr>\n",
       "      <th>R:\\Bundle2\\B2S1</th>\n",
       "      <td>148</td>\n",
       "    </tr>\n",
       "    <tr>\n",
       "      <th>R:\\Bundle2\\B2S1\\SQL Databases</th>\n",
       "      <td>3</td>\n",
       "    </tr>\n",
       "    <tr>\n",
       "      <th>R:\\Bundle2\\BH01</th>\n",
       "      <td>2</td>\n",
       "    </tr>\n",
       "    <tr>\n",
       "      <th>R:\\Bundle2\\BH01\\INPUT</th>\n",
       "      <td>1</td>\n",
       "    </tr>\n",
       "  </tbody>\n",
       "</table>\n",
       "</div>"
      ],
      "text/plain": [
       "                               22-Jan-2016\n",
       "DirectoryName                             \n",
       "R:\\Bundle2                               7\n",
       "R:\\Bundle2\\B2S1                        148\n",
       "R:\\Bundle2\\B2S1\\SQL Databases            3\n",
       "R:\\Bundle2\\BH01                          2\n",
       "R:\\Bundle2\\BH01\\INPUT                    1"
      ]
     },
     "execution_count": 4,
     "metadata": {},
     "output_type": "execute_result"
    }
   ],
   "source": [
    "# Add date as column header\n",
    "bd_22Jan_Tot.columns = ['22-Jan-2016']\n",
    "bd_22Jan_Tot.head()"
   ]
  },
  {
   "cell_type": "code",
   "execution_count": 5,
   "metadata": {
    "collapsed": false
   },
   "outputs": [],
   "source": [
    "# Sheet - 28 Jan\n",
    "# read the bundle summary data \n",
    "bd_28Jan = pd.read_csv('Bundle2info_28Jan.csv')\n",
    "\n",
    "bd_28Jan_a = bd_28Jan.groupby('DirectoryName').size()\n",
    "\n",
    "bd_28Jan_Tot = pd.DataFrame(bd_28Jan_a)\n",
    "\n",
    "bd_28Jan_Tot.columns = ['28-Jan-2016']\n"
   ]
  },
  {
   "cell_type": "code",
   "execution_count": null,
   "metadata": {
    "collapsed": true
   },
   "outputs": [],
   "source": []
  },
  {
   "cell_type": "code",
   "execution_count": 6,
   "metadata": {
    "collapsed": false
   },
   "outputs": [],
   "source": [
    "# Sheet - 01 Feb\n",
    "# read the bundle summary data \n",
    "bd_01Feb = pd.read_csv('Bundle2info_01Feb.csv')\n",
    "\n",
    "bd_01Feb_a = bd_01Feb.groupby('DirectoryName').size()\n",
    "\n",
    "bd_01Feb_Tot = pd.DataFrame(bd_01Feb_a)\n",
    "\n",
    "bd_01Feb_Tot.columns = ['01-Feb-2016']\n"
   ]
  },
  {
   "cell_type": "code",
   "execution_count": null,
   "metadata": {
    "collapsed": false
   },
   "outputs": [],
   "source": []
  },
  {
   "cell_type": "code",
   "execution_count": 7,
   "metadata": {
    "collapsed": false
   },
   "outputs": [],
   "source": [
    "# Sheet - 17 Feb\n",
    "# read the bundle summary data \n",
    "bd_17Feb = pd.read_csv('Bundle2info_17Feb.csv')\n",
    "\n",
    "bd_17Feb_a = bd_17Feb.groupby('DirectoryName').size()\n",
    "\n",
    "bd_17Feb_Tot = pd.DataFrame(bd_17Feb_a)\n",
    "\n",
    "bd_17Feb_Tot.columns = ['17-Feb-2016']"
   ]
  },
  {
   "cell_type": "code",
   "execution_count": null,
   "metadata": {
    "collapsed": false
   },
   "outputs": [],
   "source": []
  },
  {
   "cell_type": "code",
   "execution_count": 8,
   "metadata": {
    "collapsed": false
   },
   "outputs": [],
   "source": [
    "# Sheet - 19 Feb\n",
    "# read the bundle summary data \n",
    "bd_19Feb = pd.read_csv('Bundle2info_19Feb.csv')\n",
    "\n",
    "bd_19Feb_a = bd_19Feb.groupby('DirectoryName').size()\n",
    "\n",
    "bd_19Feb_Tot = pd.DataFrame(bd_19Feb_a)\n",
    "\n",
    "bd_19Feb_Tot.columns = ['19-Feb-2016']"
   ]
  },
  {
   "cell_type": "code",
   "execution_count": null,
   "metadata": {
    "collapsed": false
   },
   "outputs": [],
   "source": []
  },
  {
   "cell_type": "code",
   "execution_count": 9,
   "metadata": {
    "collapsed": true
   },
   "outputs": [],
   "source": [
    "# Sheet - 25 Feb\n",
    "# read the bundle summary data \n",
    "bd_25Feb = pd.read_csv('Bundle2info_25Feb.csv')\n",
    "\n",
    "bd_25Feb_a = bd_25Feb.groupby('DirectoryName').size()\n",
    "\n",
    "bd_25Feb_Tot = pd.DataFrame(bd_25Feb_a)\n",
    "\n",
    "bd_25Feb_Tot.columns = ['25-Feb-2016']"
   ]
  },
  {
   "cell_type": "code",
   "execution_count": null,
   "metadata": {
    "collapsed": true
   },
   "outputs": [],
   "source": []
  },
  {
   "cell_type": "code",
   "execution_count": 10,
   "metadata": {
    "collapsed": false
   },
   "outputs": [
    {
     "data": {
      "text/html": [
       "<div>\n",
       "<table border=\"1\" class=\"dataframe\">\n",
       "  <thead>\n",
       "    <tr style=\"text-align: right;\">\n",
       "      <th></th>\n",
       "      <th>22-Jan-2016</th>\n",
       "      <th>28-Jan-2016</th>\n",
       "      <th>01-Feb-2016</th>\n",
       "      <th>17-Feb-2016</th>\n",
       "      <th>19-Feb-2016</th>\n",
       "      <th>25-Feb-2016</th>\n",
       "    </tr>\n",
       "  </thead>\n",
       "  <tbody>\n",
       "    <tr>\n",
       "      <th>R:\\Bundle2</th>\n",
       "      <td>7</td>\n",
       "      <td>7</td>\n",
       "      <td>7</td>\n",
       "      <td>8</td>\n",
       "      <td>7</td>\n",
       "      <td>7</td>\n",
       "    </tr>\n",
       "    <tr>\n",
       "      <th>R:\\Bundle2\\B2S1</th>\n",
       "      <td>148</td>\n",
       "      <td>149</td>\n",
       "      <td>151</td>\n",
       "      <td>167</td>\n",
       "      <td>167</td>\n",
       "      <td>167</td>\n",
       "    </tr>\n",
       "    <tr>\n",
       "      <th>R:\\Bundle2\\B2S1\\Input</th>\n",
       "      <td>NaN</td>\n",
       "      <td>NaN</td>\n",
       "      <td>NaN</td>\n",
       "      <td>NaN</td>\n",
       "      <td>NaN</td>\n",
       "      <td>83</td>\n",
       "    </tr>\n",
       "    <tr>\n",
       "      <th>R:\\Bundle2\\B2S1\\SQL Databases</th>\n",
       "      <td>3</td>\n",
       "      <td>6</td>\n",
       "      <td>6</td>\n",
       "      <td>6</td>\n",
       "      <td>6</td>\n",
       "      <td>6</td>\n",
       "    </tr>\n",
       "    <tr>\n",
       "      <th>R:\\Bundle2\\B2S1\\SQL Databases\\Archives</th>\n",
       "      <td>NaN</td>\n",
       "      <td>6</td>\n",
       "      <td>6</td>\n",
       "      <td>6</td>\n",
       "      <td>6</td>\n",
       "      <td>7</td>\n",
       "    </tr>\n",
       "  </tbody>\n",
       "</table>\n",
       "</div>"
      ],
      "text/plain": [
       "                                        22-Jan-2016  28-Jan-2016  01-Feb-2016  \\\n",
       "R:\\Bundle2                                        7            7            7   \n",
       "R:\\Bundle2\\B2S1                                 148          149          151   \n",
       "R:\\Bundle2\\B2S1\\Input                           NaN          NaN          NaN   \n",
       "R:\\Bundle2\\B2S1\\SQL Databases                     3            6            6   \n",
       "R:\\Bundle2\\B2S1\\SQL Databases\\Archives          NaN            6            6   \n",
       "\n",
       "                                        17-Feb-2016  19-Feb-2016  25-Feb-2016  \n",
       "R:\\Bundle2                                        8            7            7  \n",
       "R:\\Bundle2\\B2S1                                 167          167          167  \n",
       "R:\\Bundle2\\B2S1\\Input                           NaN          NaN           83  \n",
       "R:\\Bundle2\\B2S1\\SQL Databases                     6            6            6  \n",
       "R:\\Bundle2\\B2S1\\SQL Databases\\Archives            6            6            7  "
      ]
     },
     "execution_count": 10,
     "metadata": {},
     "output_type": "execute_result"
    }
   ],
   "source": [
    "result = pd.concat([bd_22Jan_Tot, bd_28Jan_Tot, bd_01Feb_Tot, bd_17Feb_Tot, bd_19Feb_Tot , bd_25Feb_Tot], axis=1, join='outer')\n",
    "result.head()"
   ]
  },
  {
   "cell_type": "code",
   "execution_count": 11,
   "metadata": {
    "collapsed": false
   },
   "outputs": [],
   "source": [
    "# Write the DataFrame to CSV\n",
    "#result.to_csv('output.csv')\n"
   ]
  }
 ],
 "metadata": {
  "kernelspec": {
   "display_name": "Python 2",
   "language": "python",
   "name": "python2"
  },
  "language_info": {
   "codemirror_mode": {
    "name": "ipython",
    "version": 2
   },
   "file_extension": ".py",
   "mimetype": "text/x-python",
   "name": "python",
   "nbconvert_exporter": "python",
   "pygments_lexer": "ipython2",
   "version": "2.7.10"
  }
 },
 "nbformat": 4,
 "nbformat_minor": 0
}
